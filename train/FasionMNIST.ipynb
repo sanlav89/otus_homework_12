{
 "cells": [
  {
   "cell_type": "markdown",
   "id": "ca115975",
   "metadata": {},
   "source": [
    "# Fashion MNIST Dataset\n",
    "https://www.kaggle.com/zalando-research/fashionmnist"
   ]
  },
  {
   "cell_type": "code",
   "execution_count": 40,
   "id": "5ba2ee40",
   "metadata": {},
   "outputs": [
    {
     "data": {
      "text/html": [
       "<img src=\"https://www.tensorflow.org/tutorials/keras/classification_files/output_oZTImqg_CaW1_0.png\"/>"
      ],
      "text/plain": [
       "<IPython.core.display.Image object>"
      ]
     },
     "execution_count": 40,
     "metadata": {},
     "output_type": "execute_result"
    }
   ],
   "source": [
    "from IPython.display import Image\n",
    "Image(url='https://www.tensorflow.org/tutorials/keras/classification_files/output_oZTImqg_CaW1_0.png')"
   ]
  },
  {
   "cell_type": "code",
   "execution_count": 1,
   "id": "36a0729c",
   "metadata": {},
   "outputs": [
    {
     "name": "stdout",
     "output_type": "stream",
     "text": [
      "Populating the interactive namespace from numpy and matplotlib\n"
     ]
    }
   ],
   "source": [
    "%pylab inline\n",
    "import pandas as pd\n",
    "import seaborn as sns"
   ]
  },
  {
   "cell_type": "code",
   "execution_count": 2,
   "id": "2886e5a3",
   "metadata": {},
   "outputs": [
    {
     "data": {
      "text/html": [
       "<div>\n",
       "<style scoped>\n",
       "    .dataframe tbody tr th:only-of-type {\n",
       "        vertical-align: middle;\n",
       "    }\n",
       "\n",
       "    .dataframe tbody tr th {\n",
       "        vertical-align: top;\n",
       "    }\n",
       "\n",
       "    .dataframe thead th {\n",
       "        text-align: right;\n",
       "    }\n",
       "</style>\n",
       "<table border=\"1\" class=\"dataframe\">\n",
       "  <thead>\n",
       "    <tr style=\"text-align: right;\">\n",
       "      <th></th>\n",
       "      <th>label</th>\n",
       "      <th>pixel1</th>\n",
       "      <th>pixel2</th>\n",
       "      <th>pixel3</th>\n",
       "      <th>pixel4</th>\n",
       "      <th>pixel5</th>\n",
       "      <th>pixel6</th>\n",
       "      <th>pixel7</th>\n",
       "      <th>pixel8</th>\n",
       "      <th>pixel9</th>\n",
       "      <th>...</th>\n",
       "      <th>pixel775</th>\n",
       "      <th>pixel776</th>\n",
       "      <th>pixel777</th>\n",
       "      <th>pixel778</th>\n",
       "      <th>pixel779</th>\n",
       "      <th>pixel780</th>\n",
       "      <th>pixel781</th>\n",
       "      <th>pixel782</th>\n",
       "      <th>pixel783</th>\n",
       "      <th>pixel784</th>\n",
       "    </tr>\n",
       "  </thead>\n",
       "  <tbody>\n",
       "    <tr>\n",
       "      <th>0</th>\n",
       "      <td>2</td>\n",
       "      <td>0</td>\n",
       "      <td>0</td>\n",
       "      <td>0</td>\n",
       "      <td>0</td>\n",
       "      <td>0</td>\n",
       "      <td>0</td>\n",
       "      <td>0</td>\n",
       "      <td>0</td>\n",
       "      <td>0</td>\n",
       "      <td>...</td>\n",
       "      <td>0</td>\n",
       "      <td>0</td>\n",
       "      <td>0</td>\n",
       "      <td>0</td>\n",
       "      <td>0</td>\n",
       "      <td>0</td>\n",
       "      <td>0</td>\n",
       "      <td>0</td>\n",
       "      <td>0</td>\n",
       "      <td>0</td>\n",
       "    </tr>\n",
       "    <tr>\n",
       "      <th>1</th>\n",
       "      <td>9</td>\n",
       "      <td>0</td>\n",
       "      <td>0</td>\n",
       "      <td>0</td>\n",
       "      <td>0</td>\n",
       "      <td>0</td>\n",
       "      <td>0</td>\n",
       "      <td>0</td>\n",
       "      <td>0</td>\n",
       "      <td>0</td>\n",
       "      <td>...</td>\n",
       "      <td>0</td>\n",
       "      <td>0</td>\n",
       "      <td>0</td>\n",
       "      <td>0</td>\n",
       "      <td>0</td>\n",
       "      <td>0</td>\n",
       "      <td>0</td>\n",
       "      <td>0</td>\n",
       "      <td>0</td>\n",
       "      <td>0</td>\n",
       "    </tr>\n",
       "    <tr>\n",
       "      <th>2</th>\n",
       "      <td>6</td>\n",
       "      <td>0</td>\n",
       "      <td>0</td>\n",
       "      <td>0</td>\n",
       "      <td>0</td>\n",
       "      <td>0</td>\n",
       "      <td>0</td>\n",
       "      <td>0</td>\n",
       "      <td>5</td>\n",
       "      <td>0</td>\n",
       "      <td>...</td>\n",
       "      <td>0</td>\n",
       "      <td>0</td>\n",
       "      <td>0</td>\n",
       "      <td>30</td>\n",
       "      <td>43</td>\n",
       "      <td>0</td>\n",
       "      <td>0</td>\n",
       "      <td>0</td>\n",
       "      <td>0</td>\n",
       "      <td>0</td>\n",
       "    </tr>\n",
       "    <tr>\n",
       "      <th>3</th>\n",
       "      <td>0</td>\n",
       "      <td>0</td>\n",
       "      <td>0</td>\n",
       "      <td>0</td>\n",
       "      <td>1</td>\n",
       "      <td>2</td>\n",
       "      <td>0</td>\n",
       "      <td>0</td>\n",
       "      <td>0</td>\n",
       "      <td>0</td>\n",
       "      <td>...</td>\n",
       "      <td>3</td>\n",
       "      <td>0</td>\n",
       "      <td>0</td>\n",
       "      <td>0</td>\n",
       "      <td>0</td>\n",
       "      <td>1</td>\n",
       "      <td>0</td>\n",
       "      <td>0</td>\n",
       "      <td>0</td>\n",
       "      <td>0</td>\n",
       "    </tr>\n",
       "    <tr>\n",
       "      <th>4</th>\n",
       "      <td>3</td>\n",
       "      <td>0</td>\n",
       "      <td>0</td>\n",
       "      <td>0</td>\n",
       "      <td>0</td>\n",
       "      <td>0</td>\n",
       "      <td>0</td>\n",
       "      <td>0</td>\n",
       "      <td>0</td>\n",
       "      <td>0</td>\n",
       "      <td>...</td>\n",
       "      <td>0</td>\n",
       "      <td>0</td>\n",
       "      <td>0</td>\n",
       "      <td>0</td>\n",
       "      <td>0</td>\n",
       "      <td>0</td>\n",
       "      <td>0</td>\n",
       "      <td>0</td>\n",
       "      <td>0</td>\n",
       "      <td>0</td>\n",
       "    </tr>\n",
       "    <tr>\n",
       "      <th>...</th>\n",
       "      <td>...</td>\n",
       "      <td>...</td>\n",
       "      <td>...</td>\n",
       "      <td>...</td>\n",
       "      <td>...</td>\n",
       "      <td>...</td>\n",
       "      <td>...</td>\n",
       "      <td>...</td>\n",
       "      <td>...</td>\n",
       "      <td>...</td>\n",
       "      <td>...</td>\n",
       "      <td>...</td>\n",
       "      <td>...</td>\n",
       "      <td>...</td>\n",
       "      <td>...</td>\n",
       "      <td>...</td>\n",
       "      <td>...</td>\n",
       "      <td>...</td>\n",
       "      <td>...</td>\n",
       "      <td>...</td>\n",
       "      <td>...</td>\n",
       "    </tr>\n",
       "    <tr>\n",
       "      <th>59995</th>\n",
       "      <td>9</td>\n",
       "      <td>0</td>\n",
       "      <td>0</td>\n",
       "      <td>0</td>\n",
       "      <td>0</td>\n",
       "      <td>0</td>\n",
       "      <td>0</td>\n",
       "      <td>0</td>\n",
       "      <td>0</td>\n",
       "      <td>0</td>\n",
       "      <td>...</td>\n",
       "      <td>0</td>\n",
       "      <td>0</td>\n",
       "      <td>0</td>\n",
       "      <td>0</td>\n",
       "      <td>0</td>\n",
       "      <td>0</td>\n",
       "      <td>0</td>\n",
       "      <td>0</td>\n",
       "      <td>0</td>\n",
       "      <td>0</td>\n",
       "    </tr>\n",
       "    <tr>\n",
       "      <th>59996</th>\n",
       "      <td>1</td>\n",
       "      <td>0</td>\n",
       "      <td>0</td>\n",
       "      <td>0</td>\n",
       "      <td>0</td>\n",
       "      <td>0</td>\n",
       "      <td>0</td>\n",
       "      <td>0</td>\n",
       "      <td>0</td>\n",
       "      <td>0</td>\n",
       "      <td>...</td>\n",
       "      <td>73</td>\n",
       "      <td>0</td>\n",
       "      <td>0</td>\n",
       "      <td>0</td>\n",
       "      <td>0</td>\n",
       "      <td>0</td>\n",
       "      <td>0</td>\n",
       "      <td>0</td>\n",
       "      <td>0</td>\n",
       "      <td>0</td>\n",
       "    </tr>\n",
       "    <tr>\n",
       "      <th>59997</th>\n",
       "      <td>8</td>\n",
       "      <td>0</td>\n",
       "      <td>0</td>\n",
       "      <td>0</td>\n",
       "      <td>0</td>\n",
       "      <td>0</td>\n",
       "      <td>0</td>\n",
       "      <td>0</td>\n",
       "      <td>0</td>\n",
       "      <td>0</td>\n",
       "      <td>...</td>\n",
       "      <td>160</td>\n",
       "      <td>162</td>\n",
       "      <td>163</td>\n",
       "      <td>135</td>\n",
       "      <td>94</td>\n",
       "      <td>0</td>\n",
       "      <td>0</td>\n",
       "      <td>0</td>\n",
       "      <td>0</td>\n",
       "      <td>0</td>\n",
       "    </tr>\n",
       "    <tr>\n",
       "      <th>59998</th>\n",
       "      <td>8</td>\n",
       "      <td>0</td>\n",
       "      <td>0</td>\n",
       "      <td>0</td>\n",
       "      <td>0</td>\n",
       "      <td>0</td>\n",
       "      <td>0</td>\n",
       "      <td>0</td>\n",
       "      <td>0</td>\n",
       "      <td>0</td>\n",
       "      <td>...</td>\n",
       "      <td>0</td>\n",
       "      <td>0</td>\n",
       "      <td>0</td>\n",
       "      <td>0</td>\n",
       "      <td>0</td>\n",
       "      <td>0</td>\n",
       "      <td>0</td>\n",
       "      <td>0</td>\n",
       "      <td>0</td>\n",
       "      <td>0</td>\n",
       "    </tr>\n",
       "    <tr>\n",
       "      <th>59999</th>\n",
       "      <td>7</td>\n",
       "      <td>0</td>\n",
       "      <td>0</td>\n",
       "      <td>0</td>\n",
       "      <td>0</td>\n",
       "      <td>0</td>\n",
       "      <td>0</td>\n",
       "      <td>0</td>\n",
       "      <td>0</td>\n",
       "      <td>0</td>\n",
       "      <td>...</td>\n",
       "      <td>0</td>\n",
       "      <td>0</td>\n",
       "      <td>0</td>\n",
       "      <td>0</td>\n",
       "      <td>0</td>\n",
       "      <td>0</td>\n",
       "      <td>0</td>\n",
       "      <td>0</td>\n",
       "      <td>0</td>\n",
       "      <td>0</td>\n",
       "    </tr>\n",
       "  </tbody>\n",
       "</table>\n",
       "<p>60000 rows × 785 columns</p>\n",
       "</div>"
      ],
      "text/plain": [
       "       label  pixel1  pixel2  pixel3  pixel4  pixel5  pixel6  pixel7  pixel8  \\\n",
       "0          2       0       0       0       0       0       0       0       0   \n",
       "1          9       0       0       0       0       0       0       0       0   \n",
       "2          6       0       0       0       0       0       0       0       5   \n",
       "3          0       0       0       0       1       2       0       0       0   \n",
       "4          3       0       0       0       0       0       0       0       0   \n",
       "...      ...     ...     ...     ...     ...     ...     ...     ...     ...   \n",
       "59995      9       0       0       0       0       0       0       0       0   \n",
       "59996      1       0       0       0       0       0       0       0       0   \n",
       "59997      8       0       0       0       0       0       0       0       0   \n",
       "59998      8       0       0       0       0       0       0       0       0   \n",
       "59999      7       0       0       0       0       0       0       0       0   \n",
       "\n",
       "       pixel9  ...  pixel775  pixel776  pixel777  pixel778  pixel779  \\\n",
       "0           0  ...         0         0         0         0         0   \n",
       "1           0  ...         0         0         0         0         0   \n",
       "2           0  ...         0         0         0        30        43   \n",
       "3           0  ...         3         0         0         0         0   \n",
       "4           0  ...         0         0         0         0         0   \n",
       "...       ...  ...       ...       ...       ...       ...       ...   \n",
       "59995       0  ...         0         0         0         0         0   \n",
       "59996       0  ...        73         0         0         0         0   \n",
       "59997       0  ...       160       162       163       135        94   \n",
       "59998       0  ...         0         0         0         0         0   \n",
       "59999       0  ...         0         0         0         0         0   \n",
       "\n",
       "       pixel780  pixel781  pixel782  pixel783  pixel784  \n",
       "0             0         0         0         0         0  \n",
       "1             0         0         0         0         0  \n",
       "2             0         0         0         0         0  \n",
       "3             1         0         0         0         0  \n",
       "4             0         0         0         0         0  \n",
       "...         ...       ...       ...       ...       ...  \n",
       "59995         0         0         0         0         0  \n",
       "59996         0         0         0         0         0  \n",
       "59997         0         0         0         0         0  \n",
       "59998         0         0         0         0         0  \n",
       "59999         0         0         0         0         0  \n",
       "\n",
       "[60000 rows x 785 columns]"
      ]
     },
     "execution_count": 2,
     "metadata": {},
     "output_type": "execute_result"
    }
   ],
   "source": [
    "ds = pd.read_csv('data/fashion-mnist_train.csv')\n",
    "ds"
   ]
  },
  {
   "cell_type": "code",
   "execution_count": 3,
   "id": "521c427e",
   "metadata": {},
   "outputs": [
    {
     "data": {
      "image/png": "[encoded data removed]",
      "text/plain": [
       "<Figure size 432x288 with 1 Axes>"
      ]
     },
     "metadata": {
      "needs_background": "light"
     },
     "output_type": "display_data"
    }
   ],
   "source": [
    "plt.imshow(ds.drop('label', axis=1).iloc[0, :].values.reshape(28, 28, 1));"
   ]
  },
  {
   "cell_type": "code",
   "execution_count": 4,
   "id": "c4bdb2e8",
   "metadata": {},
   "outputs": [],
   "source": [
    "from sklearn.model_selection import train_test_split\n",
    "\n",
    "y = ds['label'].values\n",
    "X = ds.drop('label', axis=1).values\n",
    "X_train, X_test, y_train, y_test = train_test_split(X, y, test_size=0.3, random_state=42)"
   ]
  },
  {
   "cell_type": "code",
   "execution_count": 6,
   "id": "c383ed0d",
   "metadata": {},
   "outputs": [],
   "source": [
    "from sklearn.linear_model import LogisticRegression"
   ]
  },
  {
   "cell_type": "code",
   "execution_count": 11,
   "id": "988f1550",
   "metadata": {},
   "outputs": [
    {
     "name": "stdout",
     "output_type": "stream",
     "text": [
      "CPU times: user 43 s, sys: 1.27 s, total: 44.2 s\n",
      "Wall time: 23.6 s\n"
     ]
    },
    {
     "name": "stderr",
     "output_type": "stream",
     "text": [
      "/Users/filonov/.venv/lib/python3.8/site-packages/sklearn/linear_model/_logistic.py:763: ConvergenceWarning: lbfgs failed to converge (status=1):\n",
      "STOP: TOTAL NO. of ITERATIONS REACHED LIMIT.\n",
      "\n",
      "Increase the number of iterations (max_iter) or scale the data as shown in:\n",
      "    https://scikit-learn.org/stable/modules/preprocessing.html\n",
      "Please also refer to the documentation for alternative solver options:\n",
      "    https://scikit-learn.org/stable/modules/linear_model.html#logistic-regression\n",
      "  n_iter_i = _check_optimize_result(\n"
     ]
    }
   ],
   "source": [
    "%%time\n",
    "logreg = LogisticRegression().fit(X_train, y_train)"
   ]
  },
  {
   "cell_type": "code",
   "execution_count": 12,
   "id": "5304fd36",
   "metadata": {},
   "outputs": [
    {
     "data": {
      "text/plain": [
       "0.8496111111111111"
      ]
     },
     "execution_count": 12,
     "metadata": {},
     "output_type": "execute_result"
    }
   ],
   "source": [
    "from sklearn.metrics import accuracy_score\n",
    "\n",
    "y_pred_logreg = logreg.predict(X_test)\n",
    "accuracy_score(y_test, y_pred_logreg)"
   ]
  },
  {
   "cell_type": "code",
   "execution_count": 13,
   "id": "13fd6dd8",
   "metadata": {},
   "outputs": [
    {
     "data": {
      "text/plain": [
       "(10, 784)"
      ]
     },
     "execution_count": 13,
     "metadata": {},
     "output_type": "execute_result"
    }
   ],
   "source": [
    "logreg.coef_.shape"
   ]
  },
  {
   "cell_type": "code",
   "execution_count": 14,
   "id": "ae79cb18",
   "metadata": {},
   "outputs": [
    {
     "data": {
      "text/plain": [
       "(10,)"
      ]
     },
     "execution_count": 14,
     "metadata": {},
     "output_type": "execute_result"
    }
   ],
   "source": [
    "logreg.intercept_.shape"
   ]
  },
  {
   "cell_type": "code",
   "execution_count": 15,
   "id": "2f795110",
   "metadata": {},
   "outputs": [],
   "source": [
    "coef = np.hstack((logreg.intercept_.reshape(-1, 1), logreg.coef_))\n",
    "np.savetxt(\"logreg_coef.txt\", coef)"
   ]
  },
  {
   "cell_type": "code",
   "execution_count": 16,
   "id": "bbc54f2b",
   "metadata": {},
   "outputs": [
    {
     "data": {
      "text/plain": [
       "(10, 785)"
      ]
     },
     "execution_count": 16,
     "metadata": {},
     "output_type": "execute_result"
    }
   ],
   "source": [
    "coef.shape"
   ]
  },
  {
   "cell_type": "markdown",
   "id": "9dfe6650",
   "metadata": {},
   "source": [
    "## CatBoost"
   ]
  },
  {
   "cell_type": "code",
   "execution_count": 18,
   "id": "5bb98f89",
   "metadata": {
    "scrolled": false
   },
   "outputs": [
    {
     "data": {
      "application/vnd.jupyter.widget-view+json": {
       "model_id": "41cdd32f8e69461593d946e8838bc927",
       "version_major": 2,
       "version_minor": 0
      },
      "text/plain": [
       "MetricVisualizer(layout=Layout(align_self='stretch', height='500px'))"
      ]
     },
     "metadata": {},
     "output_type": "display_data"
    }
   ],
   "source": [
    "from catboost import CatBoostClassifier\n",
    "\n",
    "cb = CatBoostClassifier(iterations=100, eval_metric='Accuracy')\n",
    "cb.fit(X_train, y_train, eval_set=(X_test, y_test), verbose=False, plot=True);"
   ]
  },
  {
   "cell_type": "code",
   "execution_count": 19,
   "id": "66fad57a",
   "metadata": {},
   "outputs": [
    {
     "data": {
      "text/plain": [
       "0.8680555555555556"
      ]
     },
     "execution_count": 19,
     "metadata": {},
     "output_type": "execute_result"
    }
   ],
   "source": [
    "y_pred_cb = cb.predict(X_test)\n",
    "accuracy_score(y_test, y_pred_cb)"
   ]
  },
  {
   "cell_type": "code",
   "execution_count": 27,
   "id": "3ac15a0b",
   "metadata": {},
   "outputs": [],
   "source": [
    "cb.save_model('model.cbm')"
   ]
  },
  {
   "cell_type": "markdown",
   "id": "aa2b8e45",
   "metadata": {},
   "source": [
    "## MLP"
   ]
  },
  {
   "cell_type": "code",
   "execution_count": 20,
   "id": "091dd935",
   "metadata": {},
   "outputs": [
    {
     "name": "stderr",
     "output_type": "stream",
     "text": [
      "2021-08-17 11:42:04.095728: I tensorflow/core/platform/cpu_feature_guard.cc:142] This TensorFlow binary is optimized with oneAPI Deep Neural Network Library (oneDNN) to use the following CPU instructions in performance-critical operations:  AVX2 FMA\n",
      "To enable them in other operations, rebuild TensorFlow with the appropriate compiler flags.\n",
      "2021-08-17 11:42:04.179588: I tensorflow/compiler/mlir/mlir_graph_optimization_pass.cc:185] None of the MLIR Optimization Passes are enabled (registered 2)\n"
     ]
    },
    {
     "name": "stdout",
     "output_type": "stream",
     "text": [
      "Model: \"sequential\"\n",
      "_________________________________________________________________\n",
      "Layer (type)                 Output Shape              Param #   \n",
      "=================================================================\n",
      "dense (Dense)                (None, 128)               100352    \n",
      "_________________________________________________________________\n",
      "dense_1 (Dense)              (None, 10)                1280      \n",
      "=================================================================\n",
      "Total params: 101,632\n",
      "Trainable params: 101,632\n",
      "Non-trainable params: 0\n",
      "_________________________________________________________________\n",
      "Epoch 1/20\n",
      "329/329 [==============================] - 3s 8ms/step - loss: 0.7515 - accuracy: 0.7651 - val_loss: 0.5153 - val_accuracy: 0.8234\n",
      "Epoch 2/20\n",
      "329/329 [==============================] - 2s 7ms/step - loss: 0.4781 - accuracy: 0.8329 - val_loss: 0.4527 - val_accuracy: 0.8362\n",
      "Epoch 3/20\n",
      "329/329 [==============================] - 1s 4ms/step - loss: 0.4292 - accuracy: 0.8475 - val_loss: 0.4122 - val_accuracy: 0.8551\n",
      "Epoch 4/20\n",
      "329/329 [==============================] - 2s 5ms/step - loss: 0.4012 - accuracy: 0.8574 - val_loss: 0.4069 - val_accuracy: 0.8508\n",
      "Epoch 5/20\n",
      "329/329 [==============================] - 2s 6ms/step - loss: 0.3793 - accuracy: 0.8659 - val_loss: 0.3950 - val_accuracy: 0.8603\n",
      "Epoch 6/20\n",
      "329/329 [==============================] - 2s 5ms/step - loss: 0.3632 - accuracy: 0.8701 - val_loss: 0.3854 - val_accuracy: 0.8606\n",
      "Epoch 7/20\n",
      "329/329 [==============================] - 2s 5ms/step - loss: 0.3500 - accuracy: 0.8741 - val_loss: 0.3671 - val_accuracy: 0.8699\n",
      "Epoch 8/20\n",
      "329/329 [==============================] - 2s 5ms/step - loss: 0.3391 - accuracy: 0.8789 - val_loss: 0.3581 - val_accuracy: 0.8724\n",
      "Epoch 9/20\n",
      "329/329 [==============================] - 2s 5ms/step - loss: 0.3298 - accuracy: 0.8814 - val_loss: 0.3521 - val_accuracy: 0.8740\n",
      "Epoch 10/20\n",
      "329/329 [==============================] - 2s 7ms/step - loss: 0.3187 - accuracy: 0.8851 - val_loss: 0.3505 - val_accuracy: 0.8737\n",
      "Epoch 11/20\n",
      "329/329 [==============================] - 1s 4ms/step - loss: 0.3098 - accuracy: 0.8885 - val_loss: 0.3422 - val_accuracy: 0.8757\n",
      "Epoch 12/20\n",
      "329/329 [==============================] - 2s 5ms/step - loss: 0.3039 - accuracy: 0.8915 - val_loss: 0.3336 - val_accuracy: 0.8793\n",
      "Epoch 13/20\n",
      "329/329 [==============================] - 2s 6ms/step - loss: 0.2952 - accuracy: 0.8934 - val_loss: 0.3454 - val_accuracy: 0.8732\n",
      "Epoch 14/20\n",
      "329/329 [==============================] - 1s 4ms/step - loss: 0.2876 - accuracy: 0.8955 - val_loss: 0.3385 - val_accuracy: 0.8776\n",
      "Epoch 15/20\n",
      "329/329 [==============================] - 1s 4ms/step - loss: 0.2805 - accuracy: 0.8985 - val_loss: 0.3315 - val_accuracy: 0.8793\n",
      "Epoch 16/20\n",
      "329/329 [==============================] - 1s 4ms/step - loss: 0.2754 - accuracy: 0.9004 - val_loss: 0.3284 - val_accuracy: 0.8839\n",
      "Epoch 17/20\n",
      "329/329 [==============================] - 1s 4ms/step - loss: 0.2675 - accuracy: 0.9035 - val_loss: 0.3266 - val_accuracy: 0.8821\n",
      "Epoch 18/20\n",
      "329/329 [==============================] - 1s 4ms/step - loss: 0.2618 - accuracy: 0.9048 - val_loss: 0.3442 - val_accuracy: 0.8752\n",
      "Epoch 19/20\n",
      "329/329 [==============================] - 1s 4ms/step - loss: 0.2575 - accuracy: 0.9062 - val_loss: 0.3307 - val_accuracy: 0.8790\n",
      "Epoch 20/20\n",
      "329/329 [==============================] - 1s 4ms/step - loss: 0.2513 - accuracy: 0.9077 - val_loss: 0.3169 - val_accuracy: 0.8849\n"
     ]
    }
   ],
   "source": [
    "from keras import Sequential\n",
    "import keras\n",
    "from keras.models import Sequential\n",
    "from keras.layers import Dense, Dropout, Input\n",
    "\n",
    "batch_size = 128\n",
    "num_classes = 10\n",
    "epochs = 20\n",
    "\n",
    "\n",
    "x_train = X_train.astype('float32')\n",
    "x_test = X_test.astype('float32')\n",
    "x_train /= 255\n",
    "x_test /= 255\n",
    "\n",
    "\n",
    "model = Sequential()\n",
    "model.add(Dense(128, use_bias=False, activation='sigmoid', input_shape=(x_train.shape[1],)))\n",
    "model.add(Dense(num_classes, use_bias=False, activation='softmax'))\n",
    "\n",
    "model.summary()\n",
    "\n",
    "model.compile(loss='sparse_categorical_crossentropy',\n",
    "              optimizer='adam',\n",
    "              metrics=['accuracy'])\n",
    "\n",
    "history = model.fit(x_train, y_train,\n",
    "                    batch_size=batch_size,\n",
    "                    epochs=epochs,\n",
    "                    verbose=1,\n",
    "                    validation_data=(x_test, y_test))"
   ]
  },
  {
   "cell_type": "code",
   "execution_count": 21,
   "id": "19d2fec6",
   "metadata": {},
   "outputs": [
    {
     "data": {
      "text/plain": [
       "Text(0, 0.5, 'Accuracy')"
      ]
     },
     "execution_count": 21,
     "metadata": {},
     "output_type": "execute_result"
    },
    {
     "data": {
      "image/png": "[encoded data removed]",
      "text/plain": [
       "<Figure size 720x432 with 1 Axes>"
      ]
     },
     "metadata": {
      "needs_background": "light"
     },
     "output_type": "display_data"
    }
   ],
   "source": [
    "plt.figure(figsize=(10, 6))\n",
    "plt.plot(history.history['val_accuracy'])\n",
    "plt.xlabel('epoch')\n",
    "plt.ylabel('Accuracy')"
   ]
  },
  {
   "cell_type": "code",
   "execution_count": 22,
   "id": "67b37a44",
   "metadata": {},
   "outputs": [
    {
     "data": {
      "text/plain": [
       "0.8848888888888888"
      ]
     },
     "execution_count": 22,
     "metadata": {},
     "output_type": "execute_result"
    }
   ],
   "source": [
    "y_pred_mlp = np.argmax(model.predict(x_test), axis=1)\n",
    "accuracy_score(y_test, y_pred_mlp)"
   ]
  },
  {
   "cell_type": "code",
   "execution_count": 39,
   "id": "33a898b4",
   "metadata": {},
   "outputs": [
    {
     "data": {
      "text/plain": [
       "(784, 128)"
      ]
     },
     "execution_count": 39,
     "metadata": {},
     "output_type": "execute_result"
    }
   ],
   "source": [
    "w1.shape"
   ]
  },
  {
   "cell_type": "code",
   "execution_count": 23,
   "id": "dc004d34",
   "metadata": {},
   "outputs": [],
   "source": [
    "input_layer = model.layers[0]\n",
    "w1 = input_layer.get_weights()[0]\n",
    "w2 = model.layers[1].get_weights()[0]\n",
    "\n",
    "np.savetxt(\"w1.txt\", w1)\n",
    "np.savetxt(\"w2.txt\", w2)"
   ]
  },
  {
   "cell_type": "code",
   "execution_count": 26,
   "id": "91904c1e",
   "metadata": {},
   "outputs": [
    {
     "name": "stdout",
     "output_type": "stream",
     "text": [
      "Model: \"sequential_3\"\n",
      "_________________________________________________________________\n",
      "Layer (type)                 Output Shape              Param #   \n",
      "=================================================================\n",
      "conv2d_4 (Conv2D)            (None, 26, 26, 32)        320       \n",
      "_________________________________________________________________\n",
      "max_pooling2d_4 (MaxPooling2 (None, 13, 13, 32)        0         \n",
      "_________________________________________________________________\n",
      "conv2d_5 (Conv2D)            (None, 11, 11, 64)        18496     \n",
      "_________________________________________________________________\n",
      "max_pooling2d_5 (MaxPooling2 (None, 5, 5, 64)          0         \n",
      "_________________________________________________________________\n",
      "flatten_2 (Flatten)          (None, 1600)              0         \n",
      "_________________________________________________________________\n",
      "dense_6 (Dense)              (None, 128)               204928    \n",
      "_________________________________________________________________\n",
      "dense_7 (Dense)              (None, 10)                1290      \n",
      "=================================================================\n",
      "Total params: 225,034\n",
      "Trainable params: 225,034\n",
      "Non-trainable params: 0\n",
      "_________________________________________________________________\n",
      "Epoch 1/20\n",
      "329/329 [==============================] - 31s 93ms/step - loss: 0.6022 - accuracy: 0.7817 - val_loss: 0.4545 - val_accuracy: 0.8387\n",
      "Epoch 2/20\n",
      "329/329 [==============================] - 32s 95ms/step - loss: 0.3862 - accuracy: 0.8611 - val_loss: 0.3728 - val_accuracy: 0.8671\n",
      "Epoch 3/20\n",
      "329/329 [==============================] - 35s 106ms/step - loss: 0.3293 - accuracy: 0.8822 - val_loss: 0.3147 - val_accuracy: 0.8879\n",
      "Epoch 4/20\n",
      "329/329 [==============================] - 26s 80ms/step - loss: 0.2979 - accuracy: 0.8924 - val_loss: 0.3240 - val_accuracy: 0.8821\n",
      "Epoch 5/20\n",
      "329/329 [==============================] - 28s 86ms/step - loss: 0.2743 - accuracy: 0.9007 - val_loss: 0.3123 - val_accuracy: 0.8827\n",
      "Epoch 6/20\n",
      "329/329 [==============================] - 32s 96ms/step - loss: 0.2548 - accuracy: 0.9067 - val_loss: 0.3123 - val_accuracy: 0.8817\n",
      "Epoch 7/20\n",
      "329/329 [==============================] - 28s 85ms/step - loss: 0.2375 - accuracy: 0.9132 - val_loss: 0.2755 - val_accuracy: 0.9009\n",
      "Epoch 8/20\n",
      "329/329 [==============================] - 29s 88ms/step - loss: 0.2196 - accuracy: 0.9202 - val_loss: 0.2698 - val_accuracy: 0.9016\n",
      "Epoch 9/20\n",
      "329/329 [==============================] - 27s 81ms/step - loss: 0.2045 - accuracy: 0.9251 - val_loss: 0.2598 - val_accuracy: 0.9072\n",
      "Epoch 10/20\n",
      "329/329 [==============================] - 26s 80ms/step - loss: 0.1937 - accuracy: 0.9282 - val_loss: 0.2753 - val_accuracy: 0.9040\n",
      "Epoch 11/20\n",
      "329/329 [==============================] - 27s 81ms/step - loss: 0.1766 - accuracy: 0.9360 - val_loss: 0.2690 - val_accuracy: 0.9011\n",
      "Epoch 12/20\n",
      "329/329 [==============================] - 27s 82ms/step - loss: 0.1658 - accuracy: 0.9387 - val_loss: 0.2531 - val_accuracy: 0.9104\n",
      "Epoch 13/20\n",
      "329/329 [==============================] - 28s 85ms/step - loss: 0.1560 - accuracy: 0.9431 - val_loss: 0.2699 - val_accuracy: 0.9062\n",
      "Epoch 14/20\n",
      "329/329 [==============================] - 27s 83ms/step - loss: 0.1406 - accuracy: 0.9487 - val_loss: 0.2623 - val_accuracy: 0.9124\n",
      "Epoch 15/20\n",
      "329/329 [==============================] - 28s 85ms/step - loss: 0.1318 - accuracy: 0.9516 - val_loss: 0.2714 - val_accuracy: 0.9090\n",
      "Epoch 16/20\n",
      "329/329 [==============================] - 34s 105ms/step - loss: 0.1191 - accuracy: 0.9567 - val_loss: 0.2909 - val_accuracy: 0.9059\n",
      "Epoch 17/20\n",
      "329/329 [==============================] - 30s 92ms/step - loss: 0.1145 - accuracy: 0.9586 - val_loss: 0.2837 - val_accuracy: 0.9038\n",
      "Epoch 18/20\n",
      "329/329 [==============================] - 44s 132ms/step - loss: 0.1042 - accuracy: 0.9628 - val_loss: 0.3234 - val_accuracy: 0.9017\n",
      "Epoch 19/20\n",
      "329/329 [==============================] - 35s 105ms/step - loss: 0.0959 - accuracy: 0.9651 - val_loss: 0.2952 - val_accuracy: 0.9099\n",
      "Epoch 20/20\n",
      "329/329 [==============================] - 32s 97ms/step - loss: 0.0844 - accuracy: 0.9692 - val_loss: 0.3213 - val_accuracy: 0.9090\n"
     ]
    }
   ],
   "source": [
    "from keras.layers import Conv2D, MaxPooling2D, Flatten, Dropout\n",
    "\n",
    "cnn_model = Sequential()\n",
    "cnn_model.add(Input(shape=(28, 28, 1), name=\"input\"))\n",
    "cnn_model.add(Conv2D(32, kernel_size=(3, 3),\n",
    "                 activation='relu'))\n",
    "cnn_model.add(MaxPooling2D(pool_size=(2, 2)))\n",
    "cnn_model.add(Conv2D(64, (3, 3), activation='relu'))\n",
    "cnn_model.add(MaxPooling2D(pool_size=(2, 2)))\n",
    "cnn_model.add(Flatten())\n",
    "cnn_model.add(Dense(128, activation='relu'))\n",
    "cnn_model.add(Dense(num_classes, activation='softmax'))\n",
    "\n",
    "cnn_model.summary()\n",
    "\n",
    "cnn_model.compile(loss='sparse_categorical_crossentropy',\n",
    "              optimizer='adam',\n",
    "              metrics=['accuracy'])\n",
    "\n",
    "cnn_history = cnn_model.fit(x_train.reshape(-1, 28, 28, 1), y_train,\n",
    "                        batch_size=batch_size,\n",
    "                        epochs=epochs,\n",
    "                        verbose=1,\n",
    "                        validation_data=(x_test.reshape(-1, 28, 28, 1), y_test))"
   ]
  },
  {
   "cell_type": "code",
   "execution_count": 28,
   "id": "b7f5ec46",
   "metadata": {},
   "outputs": [
    {
     "data": {
      "text/plain": [
       "Text(0, 0.5, 'Accuracy')"
      ]
     },
     "execution_count": 28,
     "metadata": {},
     "output_type": "execute_result"
    },
    {
     "data": {
      "image/png": "[encoded data removed]",
      "text/plain": [
       "<Figure size 720x432 with 1 Axes>"
      ]
     },
     "metadata": {
      "needs_background": "light"
     },
     "output_type": "display_data"
    }
   ],
   "source": [
    "plt.figure(figsize=(10, 6))\n",
    "plt.plot(cnn_history.history['val_accuracy'])\n",
    "plt.xlabel('epoch')\n",
    "plt.ylabel('Accuracy')"
   ]
  },
  {
   "cell_type": "code",
   "execution_count": 29,
   "id": "5bf27da1",
   "metadata": {},
   "outputs": [
    {
     "data": {
      "text/plain": [
       "0.909"
      ]
     },
     "execution_count": 29,
     "metadata": {},
     "output_type": "execute_result"
    }
   ],
   "source": [
    "y_pred_cnn = np.argmax(cnn_model.predict(x_test.reshape(-1, 28, 28, 1)), axis=1)\n",
    "accuracy_score(y_test, y_pred_cnn)"
   ]
  },
  {
   "cell_type": "code",
   "execution_count": 30,
   "id": "4341a17f",
   "metadata": {},
   "outputs": [
    {
     "name": "stderr",
     "output_type": "stream",
     "text": [
      "2021-08-17 11:56:21.264805: W tensorflow/python/util/util.cc:348] Sets are not currently considered sequences, but this may change in the future, so consider avoiding using them.\n"
     ]
    },
    {
     "name": "stdout",
     "output_type": "stream",
     "text": [
      "INFO:tensorflow:Assets written to: saved_model/assets\n"
     ]
    }
   ],
   "source": [
    "cnn_model.save('saved_model')"
   ]
  },
  {
   "cell_type": "markdown",
   "id": "ea6b1d2e",
   "metadata": {},
   "source": [
    "## Сохраняем проверочную выборку"
   ]
  },
  {
   "cell_type": "code",
   "execution_count": 38,
   "id": "84136e88",
   "metadata": {},
   "outputs": [],
   "source": [
    "test = np.hstack((y_test.reshape(-1, 1), X_test))\n",
    "np.savetxt('test.csv', test, delimiter=',', fmt=\"%d\")"
   ]
  },
  {
   "cell_type": "code",
   "execution_count": null,
   "id": "7c806d7b",
   "metadata": {},
   "outputs": [],
   "source": []
  }
 ],
 "metadata": {
  "kernelspec": {
   "display_name": "Python 3 (ipykernel)",
   "language": "python",
   "name": "python3"
  },
  "language_info": {
   "codemirror_mode": {
    "name": "ipython",
    "version": 3
   },
   "file_extension": ".py",
   "mimetype": "text/x-python",
   "name": "python",
   "nbconvert_exporter": "python",
   "pygments_lexer": "ipython3",
   "version": "3.9.7"
  }
 },
 "nbformat": 4,
 "nbformat_minor": 5
}
