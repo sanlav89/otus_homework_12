{
 "cells": [
  {
   "cell_type": "markdown",
   "metadata": {},
   "source": [
    "# Компьютерное зрение\n",
    "\n",
    "В качестве базовой задачи CV (Computer Vision) возьмем задачу классификации рукописный цифр из набора данных [MNIST](https://www.kaggle.com/c/digit-recognizer)\n",
    "\n",
    "Примеры изображений из этого набора данных представлены на рисунке."
   ]
  },
  {
   "cell_type": "code",
   "execution_count": 7,
   "metadata": {},
   "outputs": [
    {
     "data": {
      "text/html": [
       "<img src=\"https://storage.googleapis.com/tfds-data/visualization/fig/mnist-3.0.1.png\" width=\"500\"/>"
      ],
      "text/plain": [
       "<IPython.core.display.Image object>"
      ]
     },
     "execution_count": 7,
     "metadata": {},
     "output_type": "execute_result"
    }
   ],
   "source": [
    "from IPython.display import Image\n",
    "Image(url='https://storage.googleapis.com/tfds-data/visualization/fig/mnist-3.0.1.png', width=500, )"
   ]
  },
  {
   "cell_type": "markdown",
   "metadata": {},
   "source": [
    "Каждое изображение имеет разрешение 28x28 пикселов. Каждый пиксел закодирован одним байтом, который определяет оттенок серого (0 - черный, 255 - белый)"
   ]
  },
  {
   "cell_type": "markdown",
   "metadata": {},
   "source": [
    "## Загрузка данных\n",
    "\n",
    "Набора данных MNIST настолько популярен, что в библиотеке tensorflow уже есть готовая функция, которая скачает его из сети и загрузит в виде подготовленных массивов, разделенных на обучающую и проверочную выборки"
   ]
  },
  {
   "cell_type": "code",
   "execution_count": 8,
   "metadata": {},
   "outputs": [],
   "source": [
    "import numpy as np\n",
    "from tensorflow import keras\n",
    "(X_train, y_train), (X_test, y_test) = keras.datasets.mnist.load_data()"
   ]
  },
  {
   "cell_type": "markdown",
   "metadata": {},
   "source": [
    "## Нейронные сети\n",
    "\n",
    "Алгоритмы компьютерного зрения, основанные на нейронных сетях хорошо себя зарекомендовали на практике. Для решения данный задачи мы используем 2 типа нейронных сетей: полносвзный перцептрон и сверточная нейронная сеть."
   ]
  },
  {
   "cell_type": "markdown",
   "metadata": {},
   "source": [
    "## Однослойный перцептрон\n",
    "\n",
    "Данная архитекутра представляет собой известный алгоритм логистической регресси, но записаный в виде нейронной сети."
   ]
  },
  {
   "cell_type": "code",
   "execution_count": 11,
   "metadata": {},
   "outputs": [
    {
     "data": {
      "text/html": [
       "<img src=\"https://www.jeremyjordan.me/content/images/2018/01/Screen-Shot-2017-11-07-at-10.35.52-AM.png\"/>"
      ],
      "text/plain": [
       "<IPython.core.display.Image object>"
      ]
     },
     "execution_count": 11,
     "metadata": {},
     "output_type": "execute_result"
    }
   ],
   "source": [
    "Image(url='https://www.jeremyjordan.me/content/images/2018/01/Screen-Shot-2017-11-07-at-10.35.52-AM.png')"
   ]
  },
  {
   "cell_type": "markdown",
   "metadata": {},
   "source": [
    "## Полносвязный многослойный перцептрон\n",
    "Multilayer Perceptron (MLP) - архитектура НС, при которой каждый нейрон одного слоя связан со всеми нейроннами последующего слоя.\n",
    "\n",
    "Пример такой архитектуры для 2-х слоев представлен на рисунке."
   ]
  },
  {
   "cell_type": "code",
   "execution_count": 10,
   "metadata": {},
   "outputs": [
    {
     "data": {
      "text/html": [
       "<img src=\"https://miro.medium.com/max/1400/1*-IPQlOd46dlsutIbUq1Zcw.png\"/>"
      ],
      "text/plain": [
       "<IPython.core.display.Image object>"
      ]
     },
     "execution_count": 10,
     "metadata": {},
     "output_type": "execute_result"
    }
   ],
   "source": [
    "Image(url='https://miro.medium.com/max/1400/1*-IPQlOd46dlsutIbUq1Zcw.png')"
   ]
  },
  {
   "cell_type": "markdown",
   "metadata": {},
   "source": [
    "### Матричное представление "
   ]
  },
  {
   "cell_type": "code",
   "execution_count": 12,
   "metadata": {},
   "outputs": [
    {
     "data": {
      "text/html": [
       "<img src=\"https://www.jeremyjordan.me/content/images/2018/01/Screen-Shot-2017-11-07-at-12.32.19-PM.png\"/>"
      ],
      "text/plain": [
       "<IPython.core.display.Image object>"
      ]
     },
     "execution_count": 12,
     "metadata": {},
     "output_type": "execute_result"
    }
   ],
   "source": [
    "Image(url='https://www.jeremyjordan.me/content/images/2018/01/Screen-Shot-2017-11-07-at-12.32.19-PM.png')"
   ]
  },
  {
   "cell_type": "markdown",
   "metadata": {},
   "source": [
    "Первая сеть, которую мы будем обучать состоит из 2-х слоев. В первом слое 128 ячеек, во втором слое 10 - по числу выходных классов.\n",
    "\n",
    "В качестве функции активации для первого слоя будем использовать сигмоиду $\\sigma(z)$, а для второго слоя специальную функцию $softmax(z)$, которая нормирует выходы нейросети, чтобы их можно было трактовать как распределение вероятностей.\n",
    "\n",
    "Для принятия решения об конкретном классе выбирают номер выходной ячейки, вероятность которой является наибольшей из всех.\n",
    "\n",
    "Таким образом наша архитектура представляет собой последовательность следующих операций\n",
    "$$\n",
    "z_1 = W_1 x \\\\\n",
    "o_1 = \\sigma(z) \\\\\n",
    "z_2 = W_2 o_1 \\\\\n",
    "o_2 = softmax(z2) \\\\\n",
    "$$\n"
   ]
  },
  {
   "cell_type": "markdown",
   "metadata": {},
   "source": [
    "### Предобработка данных\n",
    "\n",
    "Для данной сети мы развернем двумерные изображения в одномерный вектор и отнормируем значений признаков от 0 до 1."
   ]
  },
  {
   "cell_type": "code",
   "execution_count": 33,
   "metadata": {},
   "outputs": [],
   "source": [
    "x_train = X_train.reshape(-1, 28*28)\n",
    "x_test = X_test.reshape(-1, 28*28)\n",
    "x_train = x_train.astype('float32')\n",
    "x_test = x_test.astype('float32')\n",
    "x_train /= 255\n",
    "x_test /= 255"
   ]
  },
  {
   "cell_type": "markdown",
   "metadata": {},
   "source": [
    "### Обучение сети\n",
    "\n",
    "Для обучения будем использовать API keras из библиотеки tensorflow. Данное API позволяет сконструировать произвольную архитектуру сети и запустить для нее обучающий алгоритм, который называется обратное распространение ошибки и представляет собой обобщение метода градиентного спуска."
   ]
  },
  {
   "cell_type": "code",
   "execution_count": 34,
   "metadata": {
    "scrolled": false
   },
   "outputs": [
    {
     "name": "stdout",
     "output_type": "stream",
     "text": [
      "Model: \"sequential_5\"\n",
      "_________________________________________________________________\n",
      "Layer (type)                 Output Shape              Param #   \n",
      "=================================================================\n",
      "dense_10 (Dense)             (None, 128)               100352    \n",
      "_________________________________________________________________\n",
      "dense_11 (Dense)             (None, 10)                1280      \n",
      "=================================================================\n",
      "Total params: 101,632\n",
      "Trainable params: 101,632\n",
      "Non-trainable params: 0\n",
      "_________________________________________________________________\n"
     ]
    }
   ],
   "source": [
    "from keras import Sequential\n",
    "from keras.datasets import mnist\n",
    "from keras.models import Sequential\n",
    "from keras.layers import Dense, Dropout, Input\n",
    "\n",
    "batch_size = 128\n",
    "num_classes = 10\n",
    "epochs = 20\n",
    "\n",
    "\n",
    "model = Sequential()\n",
    "model.add(Dense(128, use_bias=False, activation='sigmoid', input_shape=(x_train.shape[1],)))\n",
    "model.add(Dense(num_classes, use_bias=False, activation='softmax'))\n",
    "\n",
    "model.summary()"
   ]
  },
  {
   "cell_type": "code",
   "execution_count": 35,
   "metadata": {},
   "outputs": [
    {
     "name": "stdout",
     "output_type": "stream",
     "text": [
      "Epoch 1/20\n",
      "469/469 [==============================] - 2s 4ms/step - loss: 0.5263 - accuracy: 0.8724 - val_loss: 0.2782 - val_accuracy: 0.9216\n",
      "Epoch 2/20\n",
      "469/469 [==============================] - 2s 4ms/step - loss: 0.2487 - accuracy: 0.9292 - val_loss: 0.2105 - val_accuracy: 0.9402\n",
      "Epoch 3/20\n",
      "469/469 [==============================] - 2s 5ms/step - loss: 0.1972 - accuracy: 0.9428 - val_loss: 0.1783 - val_accuracy: 0.9470\n",
      "Epoch 4/20\n",
      "469/469 [==============================] - 2s 5ms/step - loss: 0.1645 - accuracy: 0.9524 - val_loss: 0.1538 - val_accuracy: 0.9557\n",
      "Epoch 5/20\n",
      "469/469 [==============================] - 2s 4ms/step - loss: 0.1409 - accuracy: 0.9592 - val_loss: 0.1373 - val_accuracy: 0.9595\n",
      "Epoch 6/20\n",
      "469/469 [==============================] - 2s 4ms/step - loss: 0.1228 - accuracy: 0.9644 - val_loss: 0.1240 - val_accuracy: 0.9630\n",
      "Epoch 7/20\n",
      "469/469 [==============================] - 2s 4ms/step - loss: 0.1085 - accuracy: 0.9688 - val_loss: 0.1163 - val_accuracy: 0.9645\n",
      "Epoch 8/20\n",
      "469/469 [==============================] - 2s 4ms/step - loss: 0.0968 - accuracy: 0.9723 - val_loss: 0.1071 - val_accuracy: 0.9670\n",
      "Epoch 9/20\n",
      "469/469 [==============================] - 2s 5ms/step - loss: 0.0873 - accuracy: 0.9748 - val_loss: 0.1006 - val_accuracy: 0.9697\n",
      "Epoch 10/20\n",
      "469/469 [==============================] - 2s 5ms/step - loss: 0.0793 - accuracy: 0.9772 - val_loss: 0.0931 - val_accuracy: 0.9714\n",
      "Epoch 11/20\n",
      "469/469 [==============================] - 2s 5ms/step - loss: 0.0724 - accuracy: 0.9790 - val_loss: 0.0908 - val_accuracy: 0.9715\n",
      "Epoch 12/20\n",
      "469/469 [==============================] - 2s 5ms/step - loss: 0.0663 - accuracy: 0.9814 - val_loss: 0.0891 - val_accuracy: 0.9721\n",
      "Epoch 13/20\n",
      "469/469 [==============================] - 2s 5ms/step - loss: 0.0610 - accuracy: 0.9829 - val_loss: 0.0859 - val_accuracy: 0.9735\n",
      "Epoch 14/20\n",
      "469/469 [==============================] - 2s 5ms/step - loss: 0.0562 - accuracy: 0.9842 - val_loss: 0.0849 - val_accuracy: 0.9737\n",
      "Epoch 15/20\n",
      "469/469 [==============================] - 3s 6ms/step - loss: 0.0522 - accuracy: 0.9858 - val_loss: 0.0825 - val_accuracy: 0.9741\n",
      "Epoch 16/20\n",
      "469/469 [==============================] - 2s 4ms/step - loss: 0.0484 - accuracy: 0.9870 - val_loss: 0.0796 - val_accuracy: 0.9744\n",
      "Epoch 17/20\n",
      "469/469 [==============================] - 2s 5ms/step - loss: 0.0448 - accuracy: 0.9883 - val_loss: 0.0778 - val_accuracy: 0.9746\n",
      "Epoch 18/20\n",
      "469/469 [==============================] - 3s 6ms/step - loss: 0.0418 - accuracy: 0.9893 - val_loss: 0.0761 - val_accuracy: 0.9760\n",
      "Epoch 19/20\n",
      "469/469 [==============================] - 2s 4ms/step - loss: 0.0387 - accuracy: 0.9901 - val_loss: 0.0752 - val_accuracy: 0.9768\n",
      "Epoch 20/20\n",
      "469/469 [==============================] - 2s 5ms/step - loss: 0.0361 - accuracy: 0.9910 - val_loss: 0.0762 - val_accuracy: 0.9766\n"
     ]
    }
   ],
   "source": [
    "model.compile(loss='sparse_categorical_crossentropy',\n",
    "              optimizer='rmsprop',\n",
    "              metrics=['accuracy'])\n",
    "\n",
    "history = model.fit(x_train, y_train,\n",
    "                    batch_size=batch_size,\n",
    "                    epochs=epochs,\n",
    "                    verbose=1,\n",
    "                    validation_data=(x_test, y_test))"
   ]
  },
  {
   "cell_type": "code",
   "execution_count": 36,
   "metadata": {},
   "outputs": [
    {
     "name": "stdout",
     "output_type": "stream",
     "text": [
      "Populating the interactive namespace from numpy and matplotlib\n"
     ]
    },
    {
     "data": {
      "image/png": "[encoded data removed]",
      "text/plain": [
       "<Figure size 720x432 with 1 Axes>"
      ]
     },
     "metadata": {},
     "output_type": "display_data"
    }
   ],
   "source": [
    "%pylab inline\n",
    "import seaborn as sns\n",
    "sns.set()\n",
    "plt.figure(figsize=(10, 6))\n",
    "plt.plot(history.history['val_accuracy'])\n",
    "plt.xlabel('epoch')\n",
    "plt.ylabel('Accuracy')\n",
    "plt.ylim(0.91, 1.01);"
   ]
  },
  {
   "cell_type": "markdown",
   "metadata": {},
   "source": [
    "## Сохранение весом нейронной сети\n",
    "\n",
    "Веса каждого из слоев представляют собой матрицы. Извлечем коэффициенты этих матриц и сохраним в текстовые файлы."
   ]
  },
  {
   "cell_type": "code",
   "execution_count": 37,
   "metadata": {},
   "outputs": [
    {
     "name": "stdout",
     "output_type": "stream",
     "text": [
      "w1.shape: (784, 128), w2.shape: (128, 10)\n"
     ]
    }
   ],
   "source": [
    "w1 = model.layers[0].get_weights()[0]\n",
    "w2 = model.layers[1].get_weights()[0]\n",
    "print(f\"w1.shape: {w1.shape}, w2.shape: {w2.shape}\")"
   ]
  },
  {
   "cell_type": "code",
   "execution_count": 38,
   "metadata": {},
   "outputs": [],
   "source": [
    "np.savetxt(\"w1.txt\", w1)\n",
    "np.savetxt(\"w2.txt\", w2)"
   ]
  },
  {
   "cell_type": "markdown",
   "metadata": {},
   "source": [
    "## Генерация тестовых данных\n",
    "Для проверки корректности переноса инференса в код на C++. Сохраним предсказания вероятностей и классов в файлах вместе с признаками для сотни изображений."
   ]
  },
  {
   "cell_type": "code",
   "execution_count": 39,
   "metadata": {},
   "outputs": [],
   "source": [
    "X_test_subset = X_test[:100].reshape(-1, 28*28)\n",
    "y_pred = model.predict(X_test_subset.astype('float32') / 255)\n",
    "np.savetxt(\"test_mnist_mlp.txt\", np.hstack((y_pred, X_test_subset)), fmt=\"%g\")\n",
    "y_pred_class = np.argmax(y_pred, axis=1)\n",
    "np.savetxt(\"test_mnist_mlp_classes.txt\", np.hstack((y_pred_class.reshape(-1, 1), X_test_subset)), fmt=\"%g\")"
   ]
  },
  {
   "cell_type": "markdown",
   "metadata": {},
   "source": [
    "## Серточная нейронная сеть\n",
    "\n",
    "Данный тип архитектуры хорошо подходит для обработки изображений."
   ]
  },
  {
   "cell_type": "markdown",
   "metadata": {},
   "source": [
    "### Предобработка признаков\n",
    "\n",
    "Серточные сети обычно работают с двумерными изображениями. Поэтому для этого типа сетей мы выполним только нормировку признаков."
   ]
  },
  {
   "cell_type": "code",
   "execution_count": 41,
   "metadata": {},
   "outputs": [
    {
     "data": {
      "text/plain": [
       "(60000, 28, 28)"
      ]
     },
     "execution_count": 41,
     "metadata": {},
     "output_type": "execute_result"
    }
   ],
   "source": [
    "x_train.shape"
   ]
  },
  {
   "cell_type": "code",
   "execution_count": 43,
   "metadata": {},
   "outputs": [],
   "source": [
    "x_train = X_train.astype('float32').reshape(-1, 28, 28, 1) / 255\n",
    "x_test = X_test.astype('float32').reshape(-1, 28, 28, 1) / 255"
   ]
  },
  {
   "cell_type": "code",
   "execution_count": 45,
   "metadata": {},
   "outputs": [
    {
     "name": "stdout",
     "output_type": "stream",
     "text": [
      "Model: \"sequential_8\"\n",
      "_________________________________________________________________\n",
      "Layer (type)                 Output Shape              Param #   \n",
      "=================================================================\n",
      "conv2d_3 (Conv2D)            (None, 26, 26, 32)        320       \n",
      "_________________________________________________________________\n",
      "max_pooling2d_2 (MaxPooling2 (None, 13, 13, 32)        0         \n",
      "_________________________________________________________________\n",
      "conv2d_4 (Conv2D)            (None, 11, 11, 64)        18496     \n",
      "_________________________________________________________________\n",
      "max_pooling2d_3 (MaxPooling2 (None, 5, 5, 64)          0         \n",
      "_________________________________________________________________\n",
      "flatten_1 (Flatten)          (None, 1600)              0         \n",
      "_________________________________________________________________\n",
      "dense_13 (Dense)             (None, 128)               204928    \n",
      "_________________________________________________________________\n",
      "output (Dense)               (None, 10)                1290      \n",
      "=================================================================\n",
      "Total params: 225,034\n",
      "Trainable params: 225,034\n",
      "Non-trainable params: 0\n",
      "_________________________________________________________________\n"
     ]
    }
   ],
   "source": [
    "from keras.layers import Conv2D, MaxPooling2D, Flatten, Dropout, Input\n",
    "\n",
    "cnn_model = Sequential()\n",
    "cnn_model.add(Input(shape=x_train.shape[1:], name=\"input\"))\n",
    "cnn_model.add(Conv2D(32, kernel_size=(3, 3),\n",
    "                 activation='relu'))\n",
    "cnn_model.add(MaxPooling2D(pool_size=(2, 2)))\n",
    "cnn_model.add(Conv2D(64, (3, 3), activation='relu'))\n",
    "cnn_model.add(MaxPooling2D(pool_size=(2, 2)))\n",
    "# cnn_model.add(Dropout(0.25))\n",
    "cnn_model.add(Flatten())\n",
    "cnn_model.add(Dense(128, activation='relu'))\n",
    "# cnn_model.add(Dropout(0.5))\n",
    "cnn_model.add(Dense(num_classes, activation='softmax', name=\"output\"))\n",
    "\n",
    "cnn_model.summary()"
   ]
  },
  {
   "cell_type": "code",
   "execution_count": 46,
   "metadata": {},
   "outputs": [
    {
     "name": "stdout",
     "output_type": "stream",
     "text": [
      "Epoch 1/20\n",
      "469/469 [==============================] - 37s 77ms/step - loss: 0.1881 - accuracy: 0.9432 - val_loss: 0.0783 - val_accuracy: 0.9733\n",
      "Epoch 2/20\n",
      "469/469 [==============================] - 35s 74ms/step - loss: 0.0493 - accuracy: 0.9849 - val_loss: 0.0348 - val_accuracy: 0.9880\n",
      "Epoch 3/20\n",
      "469/469 [==============================] - 33s 71ms/step - loss: 0.0328 - accuracy: 0.9898 - val_loss: 0.0302 - val_accuracy: 0.9892\n",
      "Epoch 4/20\n",
      "469/469 [==============================] - 33s 70ms/step - loss: 0.0247 - accuracy: 0.9927 - val_loss: 0.0270 - val_accuracy: 0.9908\n",
      "Epoch 5/20\n",
      "469/469 [==============================] - 36s 77ms/step - loss: 0.0185 - accuracy: 0.9943 - val_loss: 0.0321 - val_accuracy: 0.9896\n",
      "Epoch 6/20\n",
      "469/469 [==============================] - 34s 73ms/step - loss: 0.0142 - accuracy: 0.9956 - val_loss: 0.0249 - val_accuracy: 0.9918\n",
      "Epoch 7/20\n",
      "469/469 [==============================] - 35s 74ms/step - loss: 0.0112 - accuracy: 0.9967 - val_loss: 0.0359 - val_accuracy: 0.9893\n",
      "Epoch 8/20\n",
      "469/469 [==============================] - 35s 75ms/step - loss: 0.0090 - accuracy: 0.9973 - val_loss: 0.0278 - val_accuracy: 0.9918\n",
      "Epoch 9/20\n",
      "469/469 [==============================] - 39s 84ms/step - loss: 0.0075 - accuracy: 0.9977 - val_loss: 0.0353 - val_accuracy: 0.9908\n",
      "Epoch 10/20\n",
      "469/469 [==============================] - 40s 85ms/step - loss: 0.0062 - accuracy: 0.9982 - val_loss: 0.0289 - val_accuracy: 0.9925\n",
      "Epoch 11/20\n",
      "469/469 [==============================] - 45s 96ms/step - loss: 0.0047 - accuracy: 0.9985 - val_loss: 0.0300 - val_accuracy: 0.9930\n",
      "Epoch 12/20\n",
      "469/469 [==============================] - 46s 99ms/step - loss: 0.0040 - accuracy: 0.9987 - val_loss: 0.0347 - val_accuracy: 0.9922\n",
      "Epoch 13/20\n",
      "469/469 [==============================] - 43s 91ms/step - loss: 0.0034 - accuracy: 0.9990 - val_loss: 0.0367 - val_accuracy: 0.9931\n",
      "Epoch 14/20\n",
      "469/469 [==============================] - 42s 91ms/step - loss: 0.0026 - accuracy: 0.9991 - val_loss: 0.0412 - val_accuracy: 0.9925\n",
      "Epoch 15/20\n",
      "469/469 [==============================] - 45s 96ms/step - loss: 0.0024 - accuracy: 0.9992 - val_loss: 0.0417 - val_accuracy: 0.9918\n",
      "Epoch 16/20\n",
      "469/469 [==============================] - 40s 84ms/step - loss: 0.0019 - accuracy: 0.9994 - val_loss: 0.0451 - val_accuracy: 0.9921\n",
      "Epoch 17/20\n",
      "469/469 [==============================] - 45s 97ms/step - loss: 0.0017 - accuracy: 0.9995 - val_loss: 0.0460 - val_accuracy: 0.9925\n",
      "Epoch 18/20\n",
      "469/469 [==============================] - 40s 85ms/step - loss: 0.0014 - accuracy: 0.9996 - val_loss: 0.0448 - val_accuracy: 0.9920\n",
      "Epoch 19/20\n",
      "469/469 [==============================] - 37s 80ms/step - loss: 0.0012 - accuracy: 0.9996 - val_loss: 0.0562 - val_accuracy: 0.9899\n",
      "Epoch 20/20\n",
      "469/469 [==============================] - 41s 87ms/step - loss: 0.0013 - accuracy: 0.9996 - val_loss: 0.0479 - val_accuracy: 0.9929\n"
     ]
    }
   ],
   "source": [
    "cnn_model.compile(loss='sparse_categorical_crossentropy',\n",
    "              optimizer='rmsprop',\n",
    "              metrics=['accuracy'])\n",
    "\n",
    "cnn_history = cnn_model.fit(x_train, y_train,\n",
    "                        batch_size=batch_size,\n",
    "                        epochs=epochs,\n",
    "                        verbose=1,\n",
    "                        validation_data=(x_test, y_test))"
   ]
  },
  {
   "cell_type": "code",
   "execution_count": 47,
   "metadata": {},
   "outputs": [
    {
     "data": {
      "image/png": "[encoded data removed]",
      "text/plain": [
       "<Figure size 720x432 with 1 Axes>"
      ]
     },
     "metadata": {},
     "output_type": "display_data"
    }
   ],
   "source": [
    "plt.figure(figsize=(10, 6))\n",
    "plt.plot(cnn_history.history['val_accuracy'])\n",
    "plt.xlabel('epoch')\n",
    "plt.ylabel('Accuracy')\n",
    "plt.ylim(0.91, 1.01);"
   ]
  },
  {
   "cell_type": "markdown",
   "metadata": {},
   "source": [
    "### Сохранение модели\n",
    "Для хранения модели Tensorflow использует собственный формат SavedModel. Создается директория, в которой располагаются различные файлы и поддиректории, прдставляющие собой модели и различные параметры."
   ]
  },
  {
   "cell_type": "code",
   "execution_count": 48,
   "metadata": {},
   "outputs": [
    {
     "name": "stderr",
     "output_type": "stream",
     "text": [
      "2021-08-17 11:14:10.598304: W tensorflow/python/util/util.cc:348] Sets are not currently considered sequences, but this may change in the future, so consider avoiding using them.\n"
     ]
    },
    {
     "name": "stdout",
     "output_type": "stream",
     "text": [
      "INFO:tensorflow:Assets written to: saved_model/assets\n"
     ]
    }
   ],
   "source": [
    "cnn_model.save(\"saved_model\")"
   ]
  },
  {
   "cell_type": "markdown",
   "metadata": {},
   "source": [
    "### Генерация данных для тестирования"
   ]
  },
  {
   "cell_type": "code",
   "execution_count": 49,
   "metadata": {},
   "outputs": [],
   "source": [
    "x_test_subset = x_test[:100]\n",
    "y_pred = cnn_model.predict(x_test_subset.reshape(-1, 28, 28, 1).astype('float32') / 255)\n",
    "np.savetxt(\"test_mnist_cnn.txt\", np.hstack((y_pred, x_test_subset.reshape(-1, 28*28))), fmt=\"%g\")\n",
    "y_pred_class = np.argmax(y_pred, axis=1)\n",
    "np.savetxt(\"test_mnist_cnn_classes.txt\", np.hstack((y_pred_class.reshape(-1, 1), x_test_subset.reshape(-1, 28*28))), fmt=\"%g\")"
   ]
  },
  {
   "cell_type": "code",
   "execution_count": null,
   "metadata": {},
   "outputs": [],
   "source": []
  }
 ],
 "metadata": {
  "kernelspec": {
   "display_name": "Python 3 (ipykernel)",
   "language": "python",
   "name": "python3"
  },
  "language_info": {
   "codemirror_mode": {
    "name": "ipython",
    "version": 3
   },
   "file_extension": ".py",
   "mimetype": "text/x-python",
   "name": "python",
   "nbconvert_exporter": "python",
   "pygments_lexer": "ipython3",
   "version": "3.8.2"
  }
 },
 "nbformat": 4,
 "nbformat_minor": 2
}
